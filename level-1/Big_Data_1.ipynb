{
  "nbformat": 4,
  "nbformat_minor": 0,
  "metadata": {
    "colab": {
      "name": "Big_Data_1.ipynb",
      "provenance": [],
      "collapsed_sections": []
    },
    "kernelspec": {
      "name": "python3",
      "display_name": "Python 3"
    },
    "language_info": {
      "name": "python"
    }
  },
  "cells": [
    {
      "cell_type": "code",
      "metadata": {
        "colab": {
          "base_uri": "https://localhost:8080/"
        },
        "id": "XjQ2mt15YAy3",
        "outputId": "cec363c7-2796-46ff-c501-fecd1106e913"
      },
      "source": [
        "import os\n",
        "# Find the latest version of spark 3.0  from http://www-us.apache.org/dist/spark/ and enter as the spark version\n",
        "# For example:\n",
        "# spark_version = 'spark-3.0.1'\n",
        "spark_version = 'spark-3.1.2'\n",
        "os.environ['SPARK_VERSION']=spark_version\n",
        "\n",
        "# Install Spark and Java\n",
        "!apt-get update\n",
        "!apt-get install openjdk-11-jdk-headless -qq > /dev/null\n",
        "!wget -q http://www.apache.org/dist/spark/$SPARK_VERSION/$SPARK_VERSION-bin-hadoop2.7.tgz\n",
        "!tar xf $SPARK_VERSION-bin-hadoop2.7.tgz\n",
        "!pip install -q findspark\n",
        "\n",
        "# Set Environment Variables\n",
        "import os\n",
        "os.environ[\"JAVA_HOME\"] = \"/usr/lib/jvm/java-11-openjdk-amd64\"\n",
        "os.environ[\"SPARK_HOME\"] = f\"/content/{spark_version}-bin-hadoop2.7\"\n",
        "\n",
        "# Start a SparkSession\n",
        "import findspark\n",
        "findspark.init()"
      ],
      "execution_count": 1,
      "outputs": [
        {
          "output_type": "stream",
          "text": [
            "\r0% [Working]\r            \rGet:1 http://security.ubuntu.com/ubuntu bionic-security InRelease [88.7 kB]\n",
            "\r0% [Connecting to archive.ubuntu.com (91.189.88.152)] [1 InRelease 14.2 kB/88.7\r                                                                               \rGet:2 https://cloud.r-project.org/bin/linux/ubuntu bionic-cran40/ InRelease [3,626 B]\n",
            "\r0% [Connecting to archive.ubuntu.com (91.189.88.152)] [1 InRelease 14.2 kB/88.7\r0% [Connecting to archive.ubuntu.com (91.189.88.152)] [1 InRelease 43.1 kB/88.7\r0% [2 InRelease gpgv 3,626 B] [Connecting to archive.ubuntu.com (91.189.88.152)\r0% [2 InRelease gpgv 3,626 B] [Connecting to archive.ubuntu.com (91.189.88.152)\r                                                                               \rIgn:3 https://developer.download.nvidia.com/compute/cuda/repos/ubuntu1804/x86_64  InRelease\n",
            "\r                                                                               \r0% [2 InRelease gpgv 3,626 B] [Waiting for headers] [Waiting for headers]\r                                                                         \rHit:4 http://ppa.launchpad.net/c2d4u.team/c2d4u4.0+/ubuntu bionic InRelease\n",
            "\r0% [2 InRelease gpgv 3,626 B] [Waiting for headers] [Waiting for headers]\r                                                                         \rHit:5 http://archive.ubuntu.com/ubuntu bionic InRelease\n",
            "\r0% [2 InRelease gpgv 3,626 B] [Waiting for headers] [Connecting to ppa.launchpa\r                                                                               \rIgn:6 https://developer.download.nvidia.com/compute/machine-learning/repos/ubuntu1804/x86_64  InRelease\n",
            "Hit:7 https://developer.download.nvidia.com/compute/cuda/repos/ubuntu1804/x86_64  Release\n",
            "Hit:8 https://developer.download.nvidia.com/compute/machine-learning/repos/ubuntu1804/x86_64  Release\n",
            "Get:9 http://archive.ubuntu.com/ubuntu bionic-updates InRelease [88.7 kB]\n",
            "Hit:10 http://ppa.launchpad.net/cran/libgit2/ubuntu bionic InRelease\n",
            "Hit:11 http://ppa.launchpad.net/deadsnakes/ppa/ubuntu bionic InRelease\n",
            "Get:12 http://archive.ubuntu.com/ubuntu bionic-backports InRelease [74.6 kB]\n",
            "Hit:13 http://ppa.launchpad.net/graphics-drivers/ppa/ubuntu bionic InRelease\n",
            "Get:16 http://archive.ubuntu.com/ubuntu bionic-updates/universe amd64 Packages [2,199 kB]\n",
            "Fetched 2,454 kB in 2s (1,009 kB/s)\n",
            "Reading package lists... Done\n"
          ],
          "name": "stdout"
        }
      ]
    },
    {
      "cell_type": "code",
      "metadata": {
        "colab": {
          "base_uri": "https://localhost:8080/"
        },
        "id": "bDVvkiAWm8jz",
        "outputId": "52ce96b6-01a4-4337-a1bf-c10ce2b2ff70"
      },
      "source": [
        "!wget https://jdbc.postgresql.org/download/postgresql-42.2.9.jar"
      ],
      "execution_count": 2,
      "outputs": [
        {
          "output_type": "stream",
          "text": [
            "--2021-08-19 19:05:27--  https://jdbc.postgresql.org/download/postgresql-42.2.9.jar\n",
            "Resolving jdbc.postgresql.org (jdbc.postgresql.org)... 72.32.157.228, 2001:4800:3e1:1::228\n",
            "Connecting to jdbc.postgresql.org (jdbc.postgresql.org)|72.32.157.228|:443... connected.\n",
            "HTTP request sent, awaiting response... 200 OK\n",
            "Length: 914037 (893K) [application/java-archive]\n",
            "Saving to: ‘postgresql-42.2.9.jar.2’\n",
            "\n",
            "postgresql-42.2.9.j 100%[===================>] 892.61K  5.25MB/s    in 0.2s    \n",
            "\n",
            "2021-08-19 19:05:27 (5.25 MB/s) - ‘postgresql-42.2.9.jar.2’ saved [914037/914037]\n",
            "\n"
          ],
          "name": "stdout"
        }
      ]
    },
    {
      "cell_type": "code",
      "metadata": {
        "id": "SO-_3_fqaSiA"
      },
      "source": [
        "# Start Spark session\n",
        "from pyspark.sql import SparkSession\n",
        "spark = SparkSession.builder.appName(\"Amazon_Major_Appliances_Reviews\").config(\"spark.driver.extraClassPath\",\"/content/postgresql-42.2.9.jar\").getOrCreate()"
      ],
      "execution_count": 4,
      "outputs": []
    },
    {
      "cell_type": "code",
      "metadata": {
        "colab": {
          "base_uri": "https://localhost:8080/"
        },
        "id": "deoXq6nmbFJE",
        "outputId": "d301cbd4-0cbf-476c-b653-086745648d7d"
      },
      "source": [
        "# Read in data from S3 Buckets\n",
        "from pyspark import SparkFiles\n",
        "url = \"https://s3.amazonaws.com/amazon-reviews-pds/tsv/amazon_reviews_us_Major_Appliances_v1_00.tsv.gz\"\n",
        "spark.sparkContext.addFile(url)\n",
        "df = spark.read.csv(SparkFiles.get(\"amazon_reviews_us_Major_Appliances_v1_00.tsv.gz\"), sep='\\t', header=True)\n",
        "\n",
        "# Show DataFrame\n",
        "df.show()"
      ],
      "execution_count": 5,
      "outputs": [
        {
          "output_type": "stream",
          "text": [
            "+-----------+-----------+--------------+----------+--------------+--------------------+----------------+-----------+-------------+-----------+----+-----------------+--------------------+--------------------+-----------+\n",
            "|marketplace|customer_id|     review_id|product_id|product_parent|       product_title|product_category|star_rating|helpful_votes|total_votes|vine|verified_purchase|     review_headline|         review_body|review_date|\n",
            "+-----------+-----------+--------------+----------+--------------+--------------------+----------------+-----------+-------------+-----------+----+-----------------+--------------------+--------------------+-----------+\n",
            "|         US|   16199106|R203HPW78Z7N4K|B0067WNSZY|     633038551|FGGF3032MW Galler...|Major Appliances|          5|            0|          0|   N|                Y|If you need a new...|What a great stov...| 2015-08-31|\n",
            "|         US|   16374060|R2EAIGVLEALSP3|B002QSXK60|     811766671|Best Hand Clothes...|Major Appliances|          5|            1|          1|   N|                Y|          Five Stars|        worked great| 2015-08-31|\n",
            "|         US|   15322085|R1K1CD73HHLILA|B00EC452R6|     345562728|Supco SET184 Ther...|Major Appliances|          5|            0|          0|   N|                Y|       Fast Shipping|Part exactly what...| 2015-08-31|\n",
            "|         US|   32004835|R2KZBMOFRMYOPO|B00MVVIF2G|     563052763|Midea WHS-160RB1 ...|Major Appliances|          5|            1|          1|   N|                Y|          Five Stars|Love my refrigera...| 2015-08-31|\n",
            "|         US|   25414497| R6BIZOZY6UD01|B00IY7BNUW|     874236579|Avalon Bay Portab...|Major Appliances|          5|            0|          0|   N|                Y|          Five Stars|No more running t...| 2015-08-31|\n",
            "|         US|   36311751|R1MCXZFNF8E7Y0|B0033X29CI|     294467812|Danby  Freestandi...|Major Appliances|          1|            0|          0|   N|                Y|       Piece of Junk|It would not cool...| 2015-08-31|\n",
            "|         US|   30920961|R3EMB3E3ODR6BW|B005R597HA|     183784715|Avanti 110-Volt A...|Major Appliances|          5|            2|          2|   N|                Y|Works awesome for...|Works awesome for...| 2015-08-31|\n",
            "|         US|   52491265| RJTONVTTOPJ5S|B00MO6V8Y0|     960251524|      Danby products|Major Appliances|          5|            0|          0|   N|                Y|          Five Stars|exactly what I wa...| 2015-08-31|\n",
            "|         US|   48166169|R21U5QZ2CQECUM|B00HT39QDI|     992475314|3 Pack Tier1 MSWF...|Major Appliances|          4|            0|          0|   N|                Y|          Four Stars|       AS advertised| 2015-08-31|\n",
            "|         US|   50394924| RL2BBC51H89DH|B00LESFZ52|       1641606|True TSSU-60-16 6...|Major Appliances|          4|            0|          0|   N|                Y|but has poor insu...|It works as adver...| 2015-08-31|\n",
            "|         US|    3915552|R3RNEPHF3WIRSZ|B0149IJVPI|     838108342|Magic: the Gather...|Major Appliances|          2|            0|          0|   N|                N|           Two Stars|it's not worth 22...| 2015-08-31|\n",
            "|         US|   17068589|R38DNT9KML2PF3|B002HT0958|     387104338|Mini Portable Cou...|Major Appliances|          5|            0|          0|   N|                Y| Love it for camping|Wonderful! It spi...| 2015-08-31|\n",
            "|         US|   52081068|R2ECMBJM8KNNC8|B006WOBNX6|     180688127|1 X Dishwasher Ra...|Major Appliances|          4|            0|          0|   N|                Y|          Four Stars|Did the job but d...| 2015-08-31|\n",
            "|         US|   13783713|R2F3F92PRN9T7S|B00NLPMOU0|     570132358|Watson 1.5 ft AC ...|Major Appliances|          5|            0|          0|   N|                Y|Very well satisfied.|Arrived on time a...| 2015-08-31|\n",
            "|         US|   14555366|R35XNT88XVEMK6|B00KJ07SEM|     313983847|GE MWF SmartWater...|Major Appliances|          5|            1|          1|   N|                Y|          Five Stars|               Super| 2015-08-31|\n",
            "|         US|   48417244| RZRXLHQS71FUP|B001AT2ALM|     364403440|Koldfront Ultra C...|Major Appliances|          4|            1|          1|   N|                Y|          Four Stars|Looking forward t...| 2015-08-31|\n",
            "|         US|   19010760|R3J9T4MZRAURV5|B00JG8B42K|     672722354|OnePurify RFC0800...|Major Appliances|          1|            0|          0|   N|                Y|     dont waste your|cheap knock-off. ...| 2015-08-31|\n",
            "|         US|   43532555|R3CLDHHI0ZSQLO|B00FRJ5EWS|     137548022|2016 Life Water I...|Major Appliances|          5|            1|          2|   N|                N|       Great Product|My wife is lookin...| 2015-08-31|\n",
            "|         US|   21879631| RY52KZABZK8QF|B0052G14E8|     423421857|Danby 0.7 cu.ft. ...|Major Appliances|          1|            0|          0|   N|                Y|Do not recommend ...|3 of the buttons ...| 2015-08-31|\n",
            "|         US|     810098|R25RXV5X29M3UC|B00LOVVE9A|     386722389|SPT UF-304SS Ener...|Major Appliances|          4|            0|          1|   N|                Y|          Four Stars|     So far so good.| 2015-08-31|\n",
            "+-----------+-----------+--------------+----------+--------------+--------------------+----------------+-----------+-------------+-----------+----+-----------------+--------------------+--------------------+-----------+\n",
            "only showing top 20 rows\n",
            "\n"
          ],
          "name": "stdout"
        }
      ]
    },
    {
      "cell_type": "code",
      "metadata": {
        "colab": {
          "base_uri": "https://localhost:8080/"
        },
        "id": "3MwJPZBqcpdz",
        "outputId": "fa414f51-f46a-47c5-bb31-34b5752e5739"
      },
      "source": [
        "# Print columns\n",
        "df.columns"
      ],
      "execution_count": 6,
      "outputs": [
        {
          "output_type": "execute_result",
          "data": {
            "text/plain": [
              "['marketplace',\n",
              " 'customer_id',\n",
              " 'review_id',\n",
              " 'product_id',\n",
              " 'product_parent',\n",
              " 'product_title',\n",
              " 'product_category',\n",
              " 'star_rating',\n",
              " 'helpful_votes',\n",
              " 'total_votes',\n",
              " 'vine',\n",
              " 'verified_purchase',\n",
              " 'review_headline',\n",
              " 'review_body',\n",
              " 'review_date']"
            ]
          },
          "metadata": {},
          "execution_count": 6
        }
      ]
    },
    {
      "cell_type": "code",
      "metadata": {
        "colab": {
          "base_uri": "https://localhost:8080/"
        },
        "id": "fOM5S5vLw4L4",
        "outputId": "09c4f3ea-aaef-44f3-ad03-20933dfc3a36"
      },
      "source": [
        "# Check data types\n",
        "df.printSchema()"
      ],
      "execution_count": 7,
      "outputs": [
        {
          "output_type": "stream",
          "text": [
            "root\n",
            " |-- marketplace: string (nullable = true)\n",
            " |-- customer_id: string (nullable = true)\n",
            " |-- review_id: string (nullable = true)\n",
            " |-- product_id: string (nullable = true)\n",
            " |-- product_parent: string (nullable = true)\n",
            " |-- product_title: string (nullable = true)\n",
            " |-- product_category: string (nullable = true)\n",
            " |-- star_rating: string (nullable = true)\n",
            " |-- helpful_votes: string (nullable = true)\n",
            " |-- total_votes: string (nullable = true)\n",
            " |-- vine: string (nullable = true)\n",
            " |-- verified_purchase: string (nullable = true)\n",
            " |-- review_headline: string (nullable = true)\n",
            " |-- review_body: string (nullable = true)\n",
            " |-- review_date: string (nullable = true)\n",
            "\n"
          ],
          "name": "stdout"
        }
      ]
    },
    {
      "cell_type": "code",
      "metadata": {
        "id": "BXJuhskYxRGC"
      },
      "source": [
        "# Change data types of selected variables\n",
        "df = df.withColumn(\"customer_id\",df.customer_id.cast('int'))\n",
        "df = df.withColumn(\"product_parent\",df.product_parent.cast('int'))\n",
        "df = df.withColumn(\"review_date\",df.review_date.cast('date'))"
      ],
      "execution_count": 8,
      "outputs": []
    },
    {
      "cell_type": "code",
      "metadata": {
        "colab": {
          "base_uri": "https://localhost:8080/"
        },
        "id": "38abBCMuxxF9",
        "outputId": "f3788cf2-5dff-4855-8174-4b0c3f3bc466"
      },
      "source": [
        "# Check data types after changing\n",
        "df.printSchema()"
      ],
      "execution_count": 9,
      "outputs": [
        {
          "output_type": "stream",
          "text": [
            "root\n",
            " |-- marketplace: string (nullable = true)\n",
            " |-- customer_id: integer (nullable = true)\n",
            " |-- review_id: string (nullable = true)\n",
            " |-- product_id: string (nullable = true)\n",
            " |-- product_parent: integer (nullable = true)\n",
            " |-- product_title: string (nullable = true)\n",
            " |-- product_category: string (nullable = true)\n",
            " |-- star_rating: string (nullable = true)\n",
            " |-- helpful_votes: string (nullable = true)\n",
            " |-- total_votes: string (nullable = true)\n",
            " |-- vine: string (nullable = true)\n",
            " |-- verified_purchase: string (nullable = true)\n",
            " |-- review_headline: string (nullable = true)\n",
            " |-- review_body: string (nullable = true)\n",
            " |-- review_date: date (nullable = true)\n",
            "\n"
          ],
          "name": "stdout"
        }
      ]
    },
    {
      "cell_type": "code",
      "metadata": {
        "colab": {
          "base_uri": "https://localhost:8080/"
        },
        "id": "4TpjXvSyc1mJ",
        "outputId": "7734e000-1cac-4855-8552-7b463aa2259f"
      },
      "source": [
        "# Count of all records/reviews\n",
        "df.count()"
      ],
      "execution_count": 10,
      "outputs": [
        {
          "output_type": "execute_result",
          "data": {
            "text/plain": [
              "96901"
            ]
          },
          "metadata": {},
          "execution_count": 10
        }
      ]
    },
    {
      "cell_type": "code",
      "metadata": {
        "colab": {
          "base_uri": "https://localhost:8080/"
        },
        "id": "MTMW2ceEveg4",
        "outputId": "809a9db7-19a9-41aa-904d-4b94cc0de979"
      },
      "source": [
        "# Drop any N/A values\n",
        "df.dropna()\n",
        "df.count()"
      ],
      "execution_count": 11,
      "outputs": [
        {
          "output_type": "execute_result",
          "data": {
            "text/plain": [
              "96901"
            ]
          },
          "metadata": {},
          "execution_count": 11
        }
      ]
    },
    {
      "cell_type": "code",
      "metadata": {
        "colab": {
          "base_uri": "https://localhost:8080/"
        },
        "id": "-c9IVe2_wAJf",
        "outputId": "371b3941-1f38-4204-e8bd-0793ab1e040f"
      },
      "source": [
        "# Drop any duplicates\n",
        "df.dropDuplicates()\n",
        "df.count()"
      ],
      "execution_count": 12,
      "outputs": [
        {
          "output_type": "execute_result",
          "data": {
            "text/plain": [
              "96901"
            ]
          },
          "metadata": {},
          "execution_count": 12
        }
      ]
    },
    {
      "cell_type": "code",
      "metadata": {
        "colab": {
          "base_uri": "https://localhost:8080/"
        },
        "id": "uuPug0aMgPB_",
        "outputId": "7afcf3d0-9e86-4a80-a6a8-b39f8394d0f5"
      },
      "source": [
        "# Create review_id_table\n",
        "reviews_df = df.select([\"review_id\", \"customer_id\", \"product_id\", \"product_parent\", \"review_date\"])\n",
        "reviews_df.show(10)"
      ],
      "execution_count": 14,
      "outputs": [
        {
          "output_type": "stream",
          "text": [
            "+--------------+-----------+----------+--------------+-----------+\n",
            "|     review_id|customer_id|product_id|product_parent|review_date|\n",
            "+--------------+-----------+----------+--------------+-----------+\n",
            "|R203HPW78Z7N4K|   16199106|B0067WNSZY|     633038551| 2015-08-31|\n",
            "|R2EAIGVLEALSP3|   16374060|B002QSXK60|     811766671| 2015-08-31|\n",
            "|R1K1CD73HHLILA|   15322085|B00EC452R6|     345562728| 2015-08-31|\n",
            "|R2KZBMOFRMYOPO|   32004835|B00MVVIF2G|     563052763| 2015-08-31|\n",
            "| R6BIZOZY6UD01|   25414497|B00IY7BNUW|     874236579| 2015-08-31|\n",
            "|R1MCXZFNF8E7Y0|   36311751|B0033X29CI|     294467812| 2015-08-31|\n",
            "|R3EMB3E3ODR6BW|   30920961|B005R597HA|     183784715| 2015-08-31|\n",
            "| RJTONVTTOPJ5S|   52491265|B00MO6V8Y0|     960251524| 2015-08-31|\n",
            "|R21U5QZ2CQECUM|   48166169|B00HT39QDI|     992475314| 2015-08-31|\n",
            "| RL2BBC51H89DH|   50394924|B00LESFZ52|       1641606| 2015-08-31|\n",
            "+--------------+-----------+----------+--------------+-----------+\n",
            "only showing top 10 rows\n",
            "\n"
          ],
          "name": "stdout"
        }
      ]
    },
    {
      "cell_type": "code",
      "metadata": {
        "colab": {
          "base_uri": "https://localhost:8080/"
        },
        "id": "sENqQt62gpOa",
        "outputId": "10213eec-2208-4cba-81a1-95d988c6143a"
      },
      "source": [
        "# Create products table\n",
        "products_df = df.select([\"product_id\", \"product_title\"])\n",
        "products_df.show(10)"
      ],
      "execution_count": 15,
      "outputs": [
        {
          "output_type": "stream",
          "text": [
            "+----------+--------------------+\n",
            "|product_id|       product_title|\n",
            "+----------+--------------------+\n",
            "|B0067WNSZY|FGGF3032MW Galler...|\n",
            "|B002QSXK60|Best Hand Clothes...|\n",
            "|B00EC452R6|Supco SET184 Ther...|\n",
            "|B00MVVIF2G|Midea WHS-160RB1 ...|\n",
            "|B00IY7BNUW|Avalon Bay Portab...|\n",
            "|B0033X29CI|Danby  Freestandi...|\n",
            "|B005R597HA|Avanti 110-Volt A...|\n",
            "|B00MO6V8Y0|      Danby products|\n",
            "|B00HT39QDI|3 Pack Tier1 MSWF...|\n",
            "|B00LESFZ52|True TSSU-60-16 6...|\n",
            "+----------+--------------------+\n",
            "only showing top 10 rows\n",
            "\n"
          ],
          "name": "stdout"
        }
      ]
    },
    {
      "cell_type": "code",
      "metadata": {
        "colab": {
          "base_uri": "https://localhost:8080/"
        },
        "id": "vyle8MDI0iNl",
        "outputId": "5f18d37d-773a-41d3-e328-6792d38d26a2"
      },
      "source": [
        "# Only keep distinct products\n",
        "distinct_products_df = products_df.distinct()\n",
        "distinct_products_df.count()"
      ],
      "execution_count": 25,
      "outputs": [
        {
          "output_type": "execute_result",
          "data": {
            "text/plain": [
              "11694"
            ]
          },
          "metadata": {},
          "execution_count": 25
        }
      ]
    },
    {
      "cell_type": "code",
      "metadata": {
        "colab": {
          "base_uri": "https://localhost:8080/"
        },
        "id": "oHO_I18J1LRN",
        "outputId": "8d9ac7dd-45e6-498e-98de-8611d5312d41"
      },
      "source": [
        "# Show first 10 rows of new df\n",
        "distinct_products_df.show(10)"
      ],
      "execution_count": 26,
      "outputs": [
        {
          "output_type": "stream",
          "text": [
            "+----------+--------------------+\n",
            "|product_id|       product_title|\n",
            "+----------+--------------------+\n",
            "|B00RE645WC|WindMax 23\" Stain...|\n",
            "|B008SCVL6E|G.E. Microwave Gl...|\n",
            "|B0081LV860|Samsung WF405ATPA...|\n",
            "|B00KC812WK|2-pack OnePurify ...|\n",
            "|B00MEPNYRK|GE PSB48YSHSS Pro...|\n",
            "|B000JONLMQ|KitchenAid 18\" TR...|\n",
            "|B0073M7GNC|Whirlpool WOS92EC...|\n",
            "|B00BIWR3IQ|GE Profile PWE23K...|\n",
            "|B00O3XF1RC|MobileWasher Kit ...|\n",
            "|B00JDB6P3I|Bosch NGM5055UC 5...|\n",
            "+----------+--------------------+\n",
            "only showing top 10 rows\n",
            "\n"
          ],
          "name": "stdout"
        }
      ]
    },
    {
      "cell_type": "code",
      "metadata": {
        "colab": {
          "base_uri": "https://localhost:8080/"
        },
        "id": "X0vjJhFxhCvt",
        "outputId": "0c06370f-9b68-49cb-ae64-fe8488c3d928"
      },
      "source": [
        "# Create customers table\n",
        "customers_df = df.groupBy(\"customer_id\").count()\n",
        "# Rename count column\n",
        "customers_df = customers_df.withColumnRenamed(\"count\", \"customer_count\")\n",
        "# Order by customer count to see\n",
        "customers_df.orderBy(customers_df[\"customer_count\"].desc()).show(10)"
      ],
      "execution_count": 16,
      "outputs": [
        {
          "output_type": "stream",
          "text": [
            "+-----------+--------------+\n",
            "|customer_id|customer_count|\n",
            "+-----------+--------------+\n",
            "|   32962808|            16|\n",
            "|   15489471|            15|\n",
            "|    5695524|            15|\n",
            "|   30396577|            14|\n",
            "|   34553562|            13|\n",
            "|   51139148|            12|\n",
            "|   32230187|            12|\n",
            "|   51042275|            12|\n",
            "|   29748841|            12|\n",
            "|   40382895|            11|\n",
            "+-----------+--------------+\n",
            "only showing top 10 rows\n",
            "\n"
          ],
          "name": "stdout"
        }
      ]
    },
    {
      "cell_type": "code",
      "metadata": {
        "colab": {
          "base_uri": "https://localhost:8080/"
        },
        "id": "AfVFJWfWhaO8",
        "outputId": "3c2cab92-3a77-4a56-98b6-b67022667c9c"
      },
      "source": [
        "# Show customers table without orderby\n",
        "customers_df.show(10)"
      ],
      "execution_count": 17,
      "outputs": [
        {
          "output_type": "stream",
          "text": [
            "+-----------+--------------+\n",
            "|customer_id|customer_count|\n",
            "+-----------+--------------+\n",
            "|   13326061|             1|\n",
            "|   52512151|             1|\n",
            "|    8968933|             1|\n",
            "|   39416583|             1|\n",
            "|   21737233|             1|\n",
            "|   44119972|             1|\n",
            "|   13947800|             1|\n",
            "|   21482558|             1|\n",
            "|    2802853|             1|\n",
            "|   18518845|             1|\n",
            "+-----------+--------------+\n",
            "only showing top 10 rows\n",
            "\n"
          ],
          "name": "stdout"
        }
      ]
    },
    {
      "cell_type": "markdown",
      "metadata": {
        "id": "NPUhqIhHqkkD"
      },
      "source": [
        "Connect to RDS:"
      ]
    },
    {
      "cell_type": "code",
      "metadata": {
        "id": "lM8aqgJbi4Bx"
      },
      "source": [
        "# Configure settings for RDS\n",
        "mode = \"append\"\n",
        "jdbc_url=\"<connection string>:5432/amazon_reviews_db\"\n",
        "config = {\"user\":\"<username>\", \n",
        "          \"password\": \"<password>\", \n",
        "          \"driver\":\"org.postgresql.Driver\"}"
      ],
      "execution_count": 18,
      "outputs": []
    },
    {
      "cell_type": "code",
      "metadata": {
        "id": "hx6dstNpqNSF"
      },
      "source": [
        "# Write Reviews DataFrame to table\n",
        "reviews_df.write.jdbc(url=jdbc_url, table='review_id_table', mode=mode, properties=config)"
      ],
      "execution_count": 19,
      "outputs": []
    },
    {
      "cell_type": "code",
      "metadata": {
        "id": "vKy4xOAbqRJz"
      },
      "source": [
        "# Write Customers DataFrame to table\n",
        "customers_df.write.jdbc(url=jdbc_url, table='customers', mode=mode, properties=config)"
      ],
      "execution_count": 20,
      "outputs": []
    },
    {
      "cell_type": "code",
      "metadata": {
        "id": "zfp6ZE8oqUZg"
      },
      "source": [
        "# Write Products DataFrame to table\n",
        "distinct_products_df.write.jdbc(url=jdbc_url, table='products', mode=mode, properties=config)"
      ],
      "execution_count": 27,
      "outputs": []
    }
  ]
}